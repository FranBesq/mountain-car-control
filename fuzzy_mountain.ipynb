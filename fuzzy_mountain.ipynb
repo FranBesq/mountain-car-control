{
 "cells": [
  {
   "cell_type": "markdown",
   "metadata": {},
   "source": [
    "# Solving mountain car problem with Fuzzy Control\n",
    "\n",
    "In this notebook particle fuzzy control is used to solve the [mountain car problem](https://en.wikipedia.org/wiki/Mountain_car_problem). Inspired by [Sciky-fuzzy](https://pythonhosted.org/scikit-fuzzy/auto_examples/plot_tipping_problem_newapi.html) example on the tipping problem."
   ]
  },
  {
   "cell_type": "markdown",
   "metadata": {},
   "source": [
    "First of all some dependencies and macros"
   ]
  },
  {
   "cell_type": "code",
   "execution_count": null,
   "metadata": {},
   "outputs": [],
   "source": [
    "import gym\n",
    "import gnwrapper\n",
    "import matplotlib\n",
    "from time import sleep\n",
    "import numpy as np\n",
    "# Fuzzy lib\n",
    "import skfuzzy as fuzz\n",
    "from skfuzzy import control as ctrl\n",
    "\n",
    "# Import mountain env and initialize it\n",
    "from env.mountain_car_env import Continuous_MountainCarEnv\n",
    "\n",
    "MIN_POSITION = -1.2\n",
    "MAX_POSITION = 0.6 \n",
    "\n",
    "MIN_ACTION = -1\n",
    "MAX_ACTION = 1\n",
    "\n",
    "MAX_SPEED = 0.07\n",
    "MIN_SPEED = -0.07"
   ]
  },
  {
   "cell_type": "markdown",
   "metadata": {},
   "source": [
    "## Define Fuzzy control variables\n",
    "\n",
    "The main component of fuzzy control are membership functions. Once we have our membership functions we can start playing with the ruleset to try and minimize error.\n",
    "\n",
    "In this case `position` and `velocity` are our input functions and `action` corresponds to the force applied to the car. All scales are normalized in order to simplify membership function generation."
   ]
  },
  {
   "cell_type": "code",
   "execution_count": null,
   "metadata": {},
   "outputs": [],
   "source": [
    "universe = np.linspace(0, 1, 5)\n",
    "\n",
    "#Define Fuzzy control variables\n",
    "position = ctrl.Antecedent(universe, 'position')  # min value, max value, output membership\n",
    "velocity = ctrl.Antecedent(universe, 'velocity')      # min value, max value, output membership\n",
    "output = ctrl.Consequent(universe, 'output')# min value, max value, output membership\n",
    "\n",
    "# Generate membership functions\n",
    "names = ['nb', 'ns', 'ze', 'ps', 'pb']\n",
    "position.automf(names=names)\n",
    "velocity.automf(names=names)\n",
    "output.automf(names=names)"
   ]
  },
  {
   "cell_type": "markdown",
   "metadata": {},
   "source": [
    "This is the position membership function visualized using matplotlib"
   ]
  },
  {
   "cell_type": "code",
   "execution_count": null,
   "metadata": {},
   "outputs": [],
   "source": [
    "position.view()"
   ]
  },
  {
   "cell_type": "markdown",
   "metadata": {},
   "source": [
    "Velocity membership function"
   ]
  },
  {
   "cell_type": "code",
   "execution_count": null,
   "metadata": {},
   "outputs": [],
   "source": [
    "velocity.view()"
   ]
  },
  {
   "cell_type": "markdown",
   "metadata": {},
   "source": [
    "Output membership function"
   ]
  },
  {
   "cell_type": "code",
   "execution_count": null,
   "metadata": {},
   "outputs": [],
   "source": [
    "position.view()"
   ]
  },
  {
   "cell_type": "markdown",
   "metadata": {},
   "source": [
    "The other main part of fuzzy control is defining a ruleset. It needs to be fully connected. In this notation given a position and/or a velocity in fuzzy terms an action is chosen."
   ]
  },
  {
   "cell_type": "code",
   "execution_count": null,
   "metadata": {},
   "outputs": [],
   "source": [
    "#Define ruleset\n",
    "rule0 = ctrl.Rule(antecedent=((position['nb'] & velocity['nb']) |\n",
    "                              (position['ns'] & velocity['nb']) |\n",
    "                              (position['nb'] & velocity['ns'])),\n",
    "                  consequent=output['nb'], label='rule nb')\n",
    "\n",
    "rule1 = ctrl.Rule(antecedent=((position['nb'] & velocity['ze']) |\n",
    "                              (position['nb'] & velocity['ps']) |\n",
    "                              (position['ns'] & velocity['ns']) |\n",
    "                              (position['ns'] & velocity['ze']) |\n",
    "                              (position['ze'] & velocity['ns']) |\n",
    "                              (position['ze'] & velocity['nb']) |\n",
    "                              (position['ps'] & velocity['nb'])),\n",
    "                  consequent=output['ns'], label='rule ns')\n",
    "\n",
    "rule2 = ctrl.Rule(antecedent=((position['nb'] & velocity['pb']) |\n",
    "                              (position['ns'] & velocity['ps']) |\n",
    "                              (position['ze'] & velocity['ze']) |\n",
    "                              (position['ps'] & velocity['ns']) |\n",
    "                              (position['pb'] & velocity['nb'])),\n",
    "                  consequent=output['ze'], label='rule ze')\n",
    "\n",
    "rule3 = ctrl.Rule(antecedent=((position['ns'] & velocity['pb']) |\n",
    "                              (position['ze'] & velocity['pb']) |\n",
    "                              (position['ze'] & velocity['ps']) |\n",
    "                              (position['ps'] & velocity['ps']) |\n",
    "                              (position['ps'] & velocity['ze']) |\n",
    "                              (position['pb'] & velocity['ze']) |\n",
    "                              (position['pb'] & velocity['ns'])),\n",
    "                  consequent=output['ps'], label='rule ps')\n",
    "\n",
    "rule4 = ctrl.Rule(antecedent=((position['ps'] & velocity['pb']) |\n",
    "                              (position['pb'] & velocity['pb']) |\n",
    "                              (position['pb'] & velocity['ps'])),\n",
    "                  consequent=output['pb'], label='rule pb')\n",
    "#rule1.view()"
   ]
  },
  {
   "cell_type": "code",
   "execution_count": null,
   "metadata": {},
   "outputs": [],
   "source": [
    "# Define control system\n",
    "system = ctrl.ControlSystem(rules=[rule0, rule1, rule2, rule3, rule4])\n",
    "sim = ctrl.ControlSystemSimulation(system)"
   ]
  },
  {
   "cell_type": "markdown",
   "metadata": {},
   "source": [
    "## Run the problem with fuzzy control\n",
    "\n",
    "Now all is left is to run the simulation using this ruleset and membership functions."
   ]
  },
  {
   "cell_type": "code",
   "execution_count": null,
   "metadata": {},
   "outputs": [],
   "source": [
    "# Initilize sim\n",
    "env = gnwrapper.Animation(Continuous_MountainCarEnv())\n",
    "obs = env.reset()\n",
    "GOAL_POS = env.goal_position\n",
    "done = False\n",
    "\n",
    "while not done:\n",
    "    env.render()\n",
    "    # Denormalize position and velocity\n",
    "    pos = (obs[0] + 1.2) / 1.8\n",
    "    vel = ((obs[1]*10)+0.7)/ 1.4\n",
    "    \n",
    "    # Set input to fuzzy control\n",
    "    sim.input['position'] = pos\n",
    "    sim.input['velocity'] = vel\n",
    "    # Calculate consequent action\n",
    "    sim.compute()\n",
    "    action = sim.output['output']\n",
    "    # Discretize action space\n",
    "    if action < 0.4:\n",
    "        action = MIN_ACTION\n",
    "    else: \n",
    "        action = MAX_ACTION\n",
    "\n",
    "    obs, reward, done, info = env.step(action)\n",
    "\n",
    "env.close()"
   ]
  }
 ],
 "metadata": {
  "kernelspec": {
   "display_name": "Python 3",
   "language": "python",
   "name": "python3"
  },
  "language_info": {
   "codemirror_mode": {
    "name": "ipython",
    "version": 3
   },
   "file_extension": ".py",
   "mimetype": "text/x-python",
   "name": "python",
   "nbconvert_exporter": "python",
   "pygments_lexer": "ipython3",
   "version": "3.6.9"
  }
 },
 "nbformat": 4,
 "nbformat_minor": 4
}
